{
 "cells": [
  {
   "cell_type": "markdown",
   "metadata": {},
   "source": [
    "## Calcular Distancias de Escuelas a establecimientos que venden alcohol mas cercanos\n",
    "\n",
    "# Chequen los PATHS \n",
    "\n",
    "Primero se importan los scripts y scipy"
   ]
  },
  {
   "cell_type": "code",
   "execution_count": 15,
   "metadata": {},
   "outputs": [],
   "source": [
    "\n",
    "from schools import main as compute_schools\n",
    "from alcohol import main as compute_alcohol\n",
    "from scipy.spatial import KDTree\n"
   ]
  },
  {
   "cell_type": "markdown",
   "metadata": {},
   "source": [
    "Se define la funcion que se va a aplicar sobre el DF"
   ]
  },
  {
   "cell_type": "code",
   "execution_count": 16,
   "metadata": {},
   "outputs": [],
   "source": [
    "# Encuentra el establecimiento más cercano a una coordenada dado un arbol de KDTree\n",
    "def find_nearest(row, tree, establishments):\n",
    "    distance, index = tree.query([row['latitud'], row['longitud']])\n",
    "    return establishments.iloc[index]['nom_estab'], distance"
   ]
  },
  {
   "cell_type": "markdown",
   "metadata": {},
   "source": [
    "# Seccion de PATHS"
   ]
  },
  {
   "cell_type": "code",
   "execution_count": 17,
   "metadata": {},
   "outputs": [],
   "source": [
    "# Lista de rutas de archivos Negocios DENUE\n",
    "paths_negocios_denue = [\n",
    "    # AQUI AGREGUEN LOS PATHS DE SUS CSVs\n",
    "    '/home/jay/repos/AI/feminicidios/denue_00_46111_csv/conjunto_de_datos/denue_inegi_46111_.csv',\n",
    "    '/home/jay/repos/AI/feminicidios/denue_00_46112-46311_csv/conjunto_de_datos/denue_inegi_46112-46311_.csv',\n",
    "    '/home/jay/repos/AI/feminicidios/denue_00_46321-46531_csv/conjunto_de_datos/denue_inegi_46321-46531_.csv',\n",
    "    '/home/jay/repos/AI/feminicidios/denue_00_46591-46911_csv/conjunto_de_datos/denue_inegi_46591-46911_.csv',\n",
    "    \n",
    "    # Sin querer puse el PATH de las escuelas, xd que bueno que despues de get_alcohol() el DF estaba vacio\n",
    "    # Lo deje para debuggear\n",
    "    # '/home/jay/repos/AI/feminicidios/denue_00_61_csv/conjunto_de_datos/denue_inegi_61_.csv'\n",
    "]\n",
    "\n",
    "# Ruta de archivo Escuelas DENUE\n",
    "file_path = '/home/jay/repos/AI/feminicidios/denue_00_61_csv/conjunto_de_datos/denue_inegi_61_.csv'"
   ]
  },
  {
   "cell_type": "markdown",
   "metadata": {},
   "source": [
    "# Ahora se van a importar los DF de los negocios que venden alcohol y las escuelas"
   ]
  },
  {
   "cell_type": "code",
   "execution_count": 18,
   "metadata": {},
   "outputs": [
    {
     "name": "stdout",
     "output_type": "stream",
     "text": [
      "            id                                   nom_estab  \\\n",
      "0      8794778                                    7 ELEVEN   \n",
      "1      9346815                             7 ELEVEN MEXICO   \n",
      "2      2962357                               AB. ESMERALDA   \n",
      "3      3019167                          ABA FRUT LA ROSITA   \n",
      "4      7350331                            ABARR0TES FLORES   \n",
      "...        ...                                         ...   \n",
      "20278  7309604   TIENDA DE ABARROTES Y DEPOSITO SIN NOMBRE   \n",
      "20279  2920604       TIENDA DE ABARROTES Y DEPOSITO IBARRA   \n",
      "20280  8731247  TIENDA DE ABARROTES Y DEPOSITO EL CHAPARRO   \n",
      "20281  3050241       TIENDA DE ABARROTES Y CARNICERIA CHUY   \n",
      "20282  9070934                         TIENDA DEPOSITO SIX   \n",
      "\n",
      "                                              nombre_act    latitud  \\\n",
      "0      Comercio al por menor en tiendas de abarrotes,...  25.752659   \n",
      "1      Comercio al por menor en tiendas de abarrotes,...  25.685572   \n",
      "2      Comercio al por menor en tiendas de abarrotes,...  25.733921   \n",
      "3      Comercio al por menor en tiendas de abarrotes,...  25.685544   \n",
      "4      Comercio al por menor en tiendas de abarrotes,...  25.754152   \n",
      "...                                                  ...        ...   \n",
      "20278                   Comercio al por menor de cerveza  25.846276   \n",
      "20279                   Comercio al por menor de cerveza  25.658966   \n",
      "20280                   Comercio al por menor de cerveza  25.784664   \n",
      "20281                   Comercio al por menor de cerveza  23.971853   \n",
      "20282                   Comercio al por menor de cerveza  25.610270   \n",
      "\n",
      "         longitud  \n",
      "0     -100.198830  \n",
      "1     -100.474568  \n",
      "2     -100.386254  \n",
      "3     -100.410971  \n",
      "4     -100.106617  \n",
      "...           ...  \n",
      "20278 -100.390122  \n",
      "20279 -100.200658  \n",
      "20280 -100.566257  \n",
      "20281  -99.771485  \n",
      "20282 -100.274534  \n",
      "\n",
      "[20283 rows x 5 columns]\n"
     ]
    }
   ],
   "source": [
    "# Se itera sobre la lista de PATHS, la verdad no se por que imprime\n",
    "alcohol_establishments = compute_alcohol(paths_negocios_denue)"
   ]
  },
  {
   "cell_type": "code",
   "execution_count": 19,
   "metadata": {},
   "outputs": [],
   "source": [
    "# Se carga el DF dado un solo PATH\n",
    "schools = compute_schools(file_path)"
   ]
  },
  {
   "cell_type": "markdown",
   "metadata": {},
   "source": [
    "# Se crea un KDTree\n",
    "# Se guarda el indice y la distancia del establecimiento mas cercano a la escuela"
   ]
  },
  {
   "cell_type": "code",
   "execution_count": 20,
   "metadata": {},
   "outputs": [],
   "source": [
    "# Tree para aplicar busqueda \n",
    "alcohol_tree = KDTree(alcohol_establishments[['latitud', 'longitud']])\n",
    "\n",
    "# simon\n",
    "schools['nearest_alcohol'], schools['distance_to_nearest_alcohol'] = zip(*schools.apply(lambda row: find_nearest(row, alcohol_tree, alcohol_establishments), axis=1))\n"
   ]
  }
 ],
 "metadata": {
  "kernelspec": {
   "display_name": "Python 3",
   "language": "python",
   "name": "python3"
  },
  "language_info": {
   "codemirror_mode": {
    "name": "ipython",
    "version": 3
   },
   "file_extension": ".py",
   "mimetype": "text/x-python",
   "name": "python",
   "nbconvert_exporter": "python",
   "pygments_lexer": "ipython3",
   "version": "3.11.6"
  }
 },
 "nbformat": 4,
 "nbformat_minor": 2
}
