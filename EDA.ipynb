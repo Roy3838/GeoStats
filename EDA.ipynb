{
 "cells": [
  {
   "cell_type": "markdown",
   "metadata": {},
   "source": [
    "## Calcular Distancias de Escuelas a establecimientos que venden alcohol mas cercanos\n",
    "\n",
    "# Chequen los PATHS \n",
    "\n",
    "Primero se importan los scripts y scipy"
   ]
  },
  {
   "cell_type": "code",
   "execution_count": 2,
   "metadata": {},
   "outputs": [],
   "source": [
    "from scripts.filter import filtrar_dataframe\n",
    "from scripts.distance import find_nearest_n_places, find_nearest_within_radius\n",
    "from scipy.spatial import KDTree\n",
    "import pandas as pd\n"
   ]
  },
  {
   "cell_type": "markdown",
   "metadata": {},
   "source": [
    "# Seccion de PATHS"
   ]
  },
  {
   "cell_type": "code",
   "execution_count": 3,
   "metadata": {},
   "outputs": [],
   "source": [
    "# Lista de rutas de archivos Negocios DENUE\n",
    "paths_negocios_denue = [\n",
    "    # AQUI AGREGUEN LOS PATHS DE SUS CSVs\n",
    "    '/home/jay/repos/AI/feminicidios/denue_00_46111_csv/conjunto_de_datos/denue_inegi_46111_.csv',\n",
    "    '/home/jay/repos/AI/feminicidios/denue_00_46112-46311_csv/conjunto_de_datos/denue_inegi_46112-46311_.csv',\n",
    "    '/home/jay/repos/AI/feminicidios/denue_00_46321-46531_csv/conjunto_de_datos/denue_inegi_46321-46531_.csv',\n",
    "    '/home/jay/repos/AI/feminicidios/denue_00_46591-46911_csv/conjunto_de_datos/denue_inegi_46591-46911_.csv',\n",
    "    \n",
    "    # Sin querer puse el PATH de las escuelas, xd que bueno que despues de get_alcohol() el DF estaba vacio\n",
    "    # Lo deje para debuggear\n",
    "    # '/home/jay/repos/AI/feminicidios/denue_00_61_csv/conjunto_de_datos/denue_inegi_61_.csv'\n",
    "]\n",
    "\n",
    "# Ruta de archivo Escuelas DENUE\n",
    "file_path_escuelas = '/home/jay/repos/AI/feminicidios/denue_00_61_csv/conjunto_de_datos/denue_inegi_61_.csv'\n",
    "\n",
    "# Ruta de archivo salud DENUE\n",
    "file_path_salud = '/home/jay/repos/GeoStats/denue/denue_00_62_csv/conjunto_de_datos/denue_inegi_62_.csv'\n",
    "\n",
    "# Ruta de archivo parques DENUE\n",
    "file_path_parques = '/home/jay/repos/GeoStats/denue/denue_00_71_csv/conjunto_de_datos/denue_inegi_71_.csv'\n",
    "\n",
    "# Ruta de archivo mayoreo DENUE\n",
    "file_path_mayoreo = '/home/jay/repos/GeoStats/denue/denue_00_43_csv/conjunto_de_datos/denue_inegi_43_.csv'\n",
    "\n",
    "if True:\n",
    "    # Lista de rutas de archivos Negocios DENUE\n",
    "    paths_negocios_denue = [\n",
    "        # AQUI AGREGUEN LOS PATHS DE SUS CSVs\n",
    "        '/Users/jay/GeoStats/denue/denue_00_46111_csv/conjunto_de_datos/denue_inegi_46111_.csv',\n",
    "        '/Users/jay/GeoStats/denue/denue_00_46112-46311_csv/conjunto_de_datos/denue_inegi_46112-46311_.csv',\n",
    "        '/Users/jay/GeoStats/denue/denue_00_46321-46531_csv/conjunto_de_datos/denue_inegi_46321-46531_.csv',\n",
    "        '/Users/jay/GeoStats/denue/denue_00_46591-46911_csv/conjunto_de_datos/denue_inegi_46591-46911_.csv',\n",
    "        \n",
    "        # Sin querer puse el PATH de las escuelas, xd que bueno que despues de get_alcohol() el DF estaba vacio\n",
    "        # Lo deje para debuggear\n",
    "        # '/home/jay/repos/AI/feminicidios/denue_00_61_csv/conjunto_de_datos/denue_inegi_61_.csv'\n",
    "    ]\n",
    "\n",
    "    # Ruta de archivo Escuelas DENUE\n",
    "    file_path_escuelas = '/Users/jay/GeoStats/denue/denue_00_61_csv/conjunto_de_datos/denue_inegi_61_.csv'\n",
    "\n",
    "    # Ruta de archivo salud DENUE\n",
    "    file_path_salud = '/home/jay/repos/GeoStats/denue/denue_00_62_csv/conjunto_de_datos/denue_inegi_62_.csv'\n",
    "\n",
    "    # Ruta de archivo parques DENUE\n",
    "    file_path_parques = '/home/jay/repos/GeoStats/denue/denue_00_71_csv/conjunto_de_datos/denue_inegi_71_.csv'\n",
    "\n",
    "    # Ruta de archivo mayoreo DENUE\n",
    "    file_path_mayoreo = '/home/jay/repos/GeoStats/denue/denue_00_43_csv/conjunto_de_datos/denue_inegi_43_.csv'"
   ]
  },
  {
   "cell_type": "markdown",
   "metadata": {},
   "source": [
    "## Dado una lista de terminos en una lista de columnas se filtra."
   ]
  },
  {
   "cell_type": "code",
   "execution_count": 4,
   "metadata": {},
   "outputs": [],
   "source": [
    "columnas_para_filtrar = ['nombre_act', 'raz_social', 'nom_estab']"
   ]
  },
  {
   "cell_type": "code",
   "execution_count": 5,
   "metadata": {},
   "outputs": [],
   "source": [
    "# Filtramos escuelas \n",
    "df_escuelas = filtrar_dataframe(file_path_escuelas, columnas_para_filtrar, [])"
   ]
  },
  {
   "cell_type": "code",
   "execution_count": null,
   "metadata": {},
   "outputs": [],
   "source": [
    "# Filtramos parques\n",
    "terminos_parques = ['parques', 'jardin', 'plaza', 'bosque']\n",
    "df_parques = filtrar_dataframe(file_path_parques, columnas_para_filtrar, terminos_parques)"
   ]
  },
  {
   "cell_type": "code",
   "execution_count": null,
   "metadata": {},
   "outputs": [],
   "source": [
    "# Salud es complicado, porque queremos hospitales, publicas y privadas separadas\n",
    "terminos_privadas = ['consultorio', 'privado']\n",
    "terminos_publicas = ['imss', 'publico', 'isste']\n",
    "terminos_hospitales = ['hospital', 'cirugia']\n",
    "\n",
    "df_salud_privadas = filtrar_dataframe(file_path_salud, columnas_para_filtrar, terminos_privadas)\n",
    "df_salud_publicas = filtrar_dataframe(file_path_salud, columnas_para_filtrar, terminos_publicas)\n",
    "df_salud_hospitales = filtrar_dataframe(file_path_salud, columnas_para_filtrar, terminos_hospitales)"
   ]
  },
  {
   "cell_type": "code",
   "execution_count": 6,
   "metadata": {},
   "outputs": [],
   "source": [
    "# Para los negocios de alcohol tenemos que unir todos los dataframes al final\n",
    "terminos_alcohol = ['alcohol', 'licor', 'cerveza', 'bar', 'cantina', 'vinos', 'bebidas alcoholicas']\n",
    "\n",
    "df_alcohol_list = []\n",
    "\n",
    "for path in paths_negocios_denue:\n",
    "    df_filtrado = filtrar_dataframe(path, columnas_para_filtrar, terminos_alcohol)\n",
    "    df_alcohol_list.append(df_filtrado)\n",
    "\n",
    "df_alcohol = pd.concat(df_alcohol_list, ignore_index=True)\n",
    "\n",
    "    "
   ]
  },
  {
   "cell_type": "code",
   "execution_count": null,
   "metadata": {},
   "outputs": [],
   "source": [
    "# Fabricas\n",
    "terminos_fabricas = ['fabrica', 'fabricacion', 'industria', 'industrias', 'industrial', 'industriales']\n",
    "df_fabricas = filtrar_dataframe(file_path_mayoreo, columnas_para_filtrar, terminos_fabricas)"
   ]
  },
  {
   "cell_type": "markdown",
   "metadata": {},
   "source": [
    "# EDA"
   ]
  },
  {
   "cell_type": "code",
   "execution_count": null,
   "metadata": {},
   "outputs": [],
   "source": [
    "import matplotlib.pyplot as plt\n",
    "plt.figure(figsize=(10, 6))\n",
    "\n",
    "# Plot each dataframe with a different color\n",
    "plt.scatter(df_parques['longitud'], df_parques['latitud'], color='green', label='parques')\n",
    "plt.scatter(df_escuelas['longitud'], df_escuelas['latitud'], color='blue', label='escuelas')\n",
    "plt.scatter(df_salud_privadas['longitud'], df_salud_privadas['latitud'], color='red', label='salud privada')\n",
    "plt.scatter(df_salud_publicas['longitud'], df_salud_publicas['latitud'], color='orange', label='salud publica')\n",
    "plt.scatter(df_salud_hospitales['longitud'], df_salud_hospitales['latitud'], color='purple', label='hospitales')\n",
    "plt.scatter(df_alcohol['longitud'], df_alcohol['latitud'], color='black', label='alcohol')\n",
    "plt.scatter(df_fabricas['longitud'], df_fabricas['latitud'], color='yellow', label='fabricas')\n",
    "\n",
    "# Add a title and labels\n",
    "plt.title('Scatter Plot of Different Establishments')\n",
    "plt.xlabel('Longitude')\n",
    "plt.ylabel('Latitude')\n",
    "\n",
    "# Add a legend to identify the datasets\n",
    "plt.legend()\n",
    "\n",
    "# Show the plot\n",
    "plt.show()"
   ]
  },
  {
   "cell_type": "markdown",
   "metadata": {},
   "source": [
    "# Menor distancia entre dos dataframes\n",
    "## Se usa sklearn para el compute\n",
    "## Se guarda el indice y la distancia del establecimiento mas cercano a la escuela"
   ]
  },
  {
   "cell_type": "code",
   "execution_count": null,
   "metadata": {},
   "outputs": [],
   "source": [
    "# Los N locales mas cercanos\n",
    "N = 5\n",
    "distances, indices = find_nearest_n_places(df_escuelas, df_alcohol, n_neighbors=N)\n",
    "\n",
    "# Guardar id y distancias\n",
    "for i in range(N):\n",
    "    df_escuelas[f'closest_alcohol_id_{i+1}'] = df_alcohol.iloc[indices[:, i]]['id'].values\n",
    "    df_escuelas[f'closest_distance_km_{i+1}'] = distances[:, i]    \n"
   ]
  },
  {
   "cell_type": "code",
   "execution_count": 13,
   "metadata": {},
   "outputs": [],
   "source": [
    "from scripts.distance import find_nearest_within_radius\n",
    "\n",
    "\n",
    "R = 0.2  # For example, a 10 km radius\n",
    "distances, indices = find_nearest_within_radius(df_escuelas, df_alcohol, radius=R)\n"
   ]
  },
  {
   "cell_type": "code",
   "execution_count": 10,
   "metadata": {},
   "outputs": [],
   "source": [
    "df_escuelas['closest_alcohol_ids'] = [\n",
    "    ', '.join(df_alcohol.iloc[ind]['id'].astype(str).values) for ind in indices\n",
    "]\n",
    "\n",
    "# Store the distances as a CSV in a single column\n",
    "df_escuelas['closest_distances_km'] = [\n",
    "    ', '.join(map(str, dist)) for dist in distances\n",
    "]\n",
    "\n",
    "df_escuelas['closest_alcohol_names'] = [\n",
    "    ', '.join(df_alcohol.iloc[ind]['nom_estab'].values) for ind in indices\n",
    "]"
   ]
  },
  {
   "cell_type": "code",
   "execution_count": 14,
   "metadata": {},
   "outputs": [
    {
     "data": {
      "text/plain": [
       "88883    carniceria y abarrotes cavazos, deposito yulia...\n",
       "88884    abarrotes medina, abarrotes don chuy, abarrote...\n",
       "88885                lecheria 44, snack martha, correccion\n",
       "88886                                                     \n",
       "88887                                                     \n",
       "                               ...                        \n",
       "95773                                                     \n",
       "95774                                                     \n",
       "95775                                              timbare\n",
       "95776                                                     \n",
       "95777                                  modelorama mar rojo\n",
       "Name: closest_alcohol_names, Length: 6895, dtype: object"
      ]
     },
     "execution_count": 14,
     "metadata": {},
     "output_type": "execute_result"
    }
   ],
   "source": [
    "df_escuelas['closest_alcohol_names']"
   ]
  }
 ],
 "metadata": {
  "kernelspec": {
   "display_name": "Python 3",
   "language": "python",
   "name": "python3"
  },
  "language_info": {
   "codemirror_mode": {
    "name": "ipython",
    "version": 3
   },
   "file_extension": ".py",
   "mimetype": "text/x-python",
   "name": "python",
   "nbconvert_exporter": "python",
   "pygments_lexer": "ipython3",
   "version": "3.12.0b3"
  }
 },
 "nbformat": 4,
 "nbformat_minor": 2
}
